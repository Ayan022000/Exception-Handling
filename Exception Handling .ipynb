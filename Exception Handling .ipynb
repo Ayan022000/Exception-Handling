{
 "cells": [
  {
   "cell_type": "markdown",
   "id": "827358ed",
   "metadata": {},
   "source": [
    "# Q 1."
   ]
  },
  {
   "cell_type": "markdown",
   "id": "a2f0c914",
   "metadata": {},
   "source": [
    "## What is Exception in python? Write the difference between Exceptions and syntax errors"
   ]
  },
  {
   "cell_type": "markdown",
   "id": "47438df2",
   "metadata": {},
   "source": [
    "In Python, an exception is an error that occurs during the execution of a program. When an error occurs, Python raises an exception, which can be caught and handled by the program.\n",
    "\n",
    "Exceptions can be caused by a variety of reasons, such as:\n",
    "\n",
    "Division by zero\n",
    "\n",
    "Trying to access an index that does not exist in a list\n",
    "\n",
    "Attempting to open a file that does not exist\n",
    "\n",
    "Running out of memory\n",
    "\n",
    "Exceptions can be handled by using try and except statements. The try block contains the code that might raise an exception, and the except block contains the code that is executed if an exception is raised. If an exception is not caught, the program will terminate with an error message.\n",
    "\n",
    "Syntax errors, on the other hand, are errors that occur when the Python interpreter cannot understand the code that has been written. They are caused by mistakes in the syntax of the code, such as:\n",
    "\n",
    "Forgetting to close a bracket or parenthesis\n",
    "\n",
    "Using a keyword as a variable name\n",
    "\n",
    "Misspelling a variable or function name\n",
    "\n",
    "Syntax errors are detected by the Python interpreter when the code is compiled, and they must be fixed before the code can be executed. Unlike exceptions, syntax errors cannot be caught and handled by the program."
   ]
  },
  {
   "cell_type": "markdown",
   "id": "04d56861",
   "metadata": {},
   "source": [
    "# Q 2."
   ]
  },
  {
   "cell_type": "markdown",
   "id": "e6a26a10",
   "metadata": {},
   "source": [
    "## what happen when exception is not handled ? explain it with an example"
   ]
  },
  {
   "cell_type": "markdown",
   "id": "70bcdd15",
   "metadata": {},
   "source": [
    "When an exception is not handled in a program, it will cause the program to terminate abruptly with an error message. This can lead to unexpected behavior, crashes, or data loss.\n",
    "\n",
    "For example, let's say we have a program that asks the user to enter a number and then divides that number by 0, which is an illegal operation. If we don't handle this exception, the program will crash and display an error message to the user. "
   ]
  },
  {
   "cell_type": "code",
   "execution_count": 1,
   "id": "dedef94f",
   "metadata": {},
   "outputs": [
    {
     "ename": "ZeroDivisionError",
     "evalue": "division by zero",
     "output_type": "error",
     "traceback": [
      "\u001b[1;31m---------------------------------------------------------------------------\u001b[0m",
      "\u001b[1;31mZeroDivisionError\u001b[0m                         Traceback (most recent call last)",
      "\u001b[1;32m~\\AppData\\Local\\Temp\\ipykernel_12484\\443790166.py\u001b[0m in \u001b[0;36m<module>\u001b[1;34m\u001b[0m\n\u001b[0;32m      1\u001b[0m \u001b[0ma\u001b[0m\u001b[1;33m=\u001b[0m \u001b[1;36m10\u001b[0m\u001b[1;33m\u001b[0m\u001b[1;33m\u001b[0m\u001b[0m\n\u001b[1;32m----> 2\u001b[1;33m \u001b[0mb\u001b[0m \u001b[1;33m=\u001b[0m \u001b[1;36m10\u001b[0m\u001b[1;33m/\u001b[0m\u001b[1;36m0\u001b[0m\u001b[1;33m\u001b[0m\u001b[1;33m\u001b[0m\u001b[0m\n\u001b[0m\u001b[0;32m      3\u001b[0m \u001b[0mb\u001b[0m\u001b[1;33m\u001b[0m\u001b[1;33m\u001b[0m\u001b[0m\n",
      "\u001b[1;31mZeroDivisionError\u001b[0m: division by zero"
     ]
    }
   ],
   "source": [
    "a= 10\n",
    "b = 10/0\n",
    "b"
   ]
  },
  {
   "cell_type": "markdown",
   "id": "24ffb303",
   "metadata": {},
   "source": [
    "This error occurs because we're trying to divide by zero, which is not allowed in Python. To handle this exception, we can use a try-except block to catch the error and handle it gracefully"
   ]
  },
  {
   "cell_type": "code",
   "execution_count": 3,
   "id": "aac183ea",
   "metadata": {},
   "outputs": [
    {
     "name": "stdout",
     "output_type": "stream",
     "text": [
      "There is some issue with this code : division by zero\n"
     ]
    }
   ],
   "source": [
    "try:\n",
    "    a= 10\n",
    "    b = 10/0\n",
    "    b\n",
    "except Exception as e:\n",
    "    print(\"There is some issue with this code :\",e)   "
   ]
  },
  {
   "cell_type": "markdown",
   "id": "fb1fc6f1",
   "metadata": {},
   "source": [
    "# Q 3."
   ]
  },
  {
   "cell_type": "markdown",
   "id": "c12c7192",
   "metadata": {},
   "source": [
    "## which python statements are used to catch and handle exceptions ? explain it with an example"
   ]
  },
  {
   "cell_type": "markdown",
   "id": "885a9bb0",
   "metadata": {},
   "source": [
    "In Python, you can use the try and except statements to catch and handle exceptions. The try block contains the code that might raise an exception, and the except block contains the code that will be executed if an exception occurs.\n",
    "\n",
    "Here's an example code snippet that demonstrates how to use try and except statements:\n",
    "\n"
   ]
  },
  {
   "cell_type": "code",
   "execution_count": 4,
   "id": "45232efe",
   "metadata": {},
   "outputs": [
    {
     "name": "stdout",
     "output_type": "stream",
     "text": [
      "There is some issue with this code : [Errno 2] No such file or directory: 'test.txt'\n"
     ]
    }
   ],
   "source": [
    "try :\n",
    "    with open(\"test.txt\",'r') as f:\n",
    "        f.read()\n",
    "except Exception as e :\n",
    "    print('There is some issue with this code :',e)"
   ]
  },
  {
   "cell_type": "markdown",
   "id": "b24bc6d5",
   "metadata": {},
   "source": [
    "# Q 4."
   ]
  },
  {
   "cell_type": "markdown",
   "id": "6992bf18",
   "metadata": {},
   "source": [
    "## Explain with an example :\n",
    "### Try else\n",
    "### Finally\n",
    "### Raise"
   ]
  },
  {
   "cell_type": "markdown",
   "id": "59a6278a",
   "metadata": {},
   "source": [
    "In Python, try/except blocks are used for exception handling, which allows you to catch and handle errors that might occur during program execution.\n",
    "\n",
    "Sometimes, you might want to execute some code regardless of whether or not an exception is raised. This is where the try/except/else block comes in."
   ]
  },
  {
   "cell_type": "code",
   "execution_count": 1,
   "id": "73184467",
   "metadata": {},
   "outputs": [
    {
     "name": "stdout",
     "output_type": "stream",
     "text": [
      "If try can execute itself without except block then this else block will execute\n"
     ]
    }
   ],
   "source": [
    "try :\n",
    "    f = open('test.txt','w')\n",
    "    f.write(\"This is  my test file\")\n",
    "except Exception as e :\n",
    "    print('There is some issue with this code :',e)\n",
    "else:\n",
    "    f.close()\n",
    "    print('If try can execute itself without except block then this else block will execute')\n",
    "    "
   ]
  },
  {
   "cell_type": "markdown",
   "id": "f6cae1d7",
   "metadata": {},
   "source": [
    "In Python, the finally block is a part of exception handling that allows you to specify code that should always run, regardless of whether or not an exception was raised."
   ]
  },
  {
   "cell_type": "code",
   "execution_count": 2,
   "id": "9265b6ee",
   "metadata": {},
   "outputs": [
    {
     "name": "stdout",
     "output_type": "stream",
     "text": [
      "Error reading file\n",
      "Finally should always run whether or not an exception was raised\n"
     ]
    }
   ],
   "source": [
    "try:\n",
    "    f = open(\"example.txt\", \"r\")\n",
    "    \n",
    "except IOError:\n",
    "    print(\"Error reading file\")\n",
    "finally:\n",
    "    f.close()\n",
    "    print('Finally should always run whether or not an exception was raised')\n"
   ]
  },
  {
   "cell_type": "markdown",
   "id": "30a07d3e",
   "metadata": {},
   "source": [
    "In Python, the raise statement is used to manually raise an exception. You can use this statement to raise an exception of a specific type and with a specific error message."
   ]
  },
  {
   "cell_type": "code",
   "execution_count": 19,
   "id": "3b4b573a",
   "metadata": {},
   "outputs": [
    {
     "name": "stdout",
     "output_type": "stream",
     "text": [
      "cannot divide by zero\n"
     ]
    }
   ],
   "source": [
    "def divide(num1,num2):\n",
    "    if num2 == 0 :\n",
    "        raise ZeroDivisionError('cannot divide by zero')\n",
    "    return num1/num2\n",
    "try :\n",
    "    result = divide(10,0)\n",
    "except Exception as e :\n",
    "    print(e)\n",
    "     "
   ]
  },
  {
   "cell_type": "markdown",
   "id": "7e7e3460",
   "metadata": {},
   "source": [
    "# Q 5."
   ]
  },
  {
   "cell_type": "markdown",
   "id": "a2dfba1c",
   "metadata": {},
   "source": [
    "## what is custom exception in python? why do we need custom exception? give an example of custom exception"
   ]
  },
  {
   "cell_type": "markdown",
   "id": "1e82cd20",
   "metadata": {},
   "source": [
    "In Python, a custom exception is an exception that you define yourself by creating a new exception class. A custom exception allows you to define an exceptional situation specific to your program, and raise an exception when that situation occurs.\n",
    "\n",
    "We need custom exceptions in Python to:\n",
    "\n",
    "1. Provide a more specific and informative error message to the user or developer, as opposed to the generic error messages that are provided by the built-in exceptions.\n",
    "2. Handle exceptional situations that are specific to our program, which may not be covered by the built-in exceptions.\n",
    "3. Organize our code in a more modular way by defining our own exception hierarchy.\n",
    "\n",
    "Here is an example of a custom exception in Python:"
   ]
  },
  {
   "cell_type": "code",
   "execution_count": 5,
   "id": "d652b376",
   "metadata": {},
   "outputs": [],
   "source": [
    "class validno(Exception):\n",
    "    def __init__(self, no):\n",
    "        self.no = no"
   ]
  },
  {
   "cell_type": "code",
   "execution_count": 6,
   "id": "2da5a6bb",
   "metadata": {},
   "outputs": [],
   "source": [
    "def valid_no(no):\n",
    "    if no < 0 :\n",
    "        raise validno(\"can't take input lesser than zero\")\n",
    "    else:\n",
    "        print(\"no is valid\")\n",
    "        "
   ]
  },
  {
   "cell_type": "code",
   "execution_count": 8,
   "id": "2bb372fd",
   "metadata": {},
   "outputs": [
    {
     "name": "stdout",
     "output_type": "stream",
     "text": [
      "Enter a number :-12\n",
      "can't take input lesser than zero\n"
     ]
    }
   ],
   "source": [
    "try :\n",
    "    no = int(input(\"Enter a number :\"))\n",
    "    valid_no(no)\n",
    "except validno as e :\n",
    "    print(e)"
   ]
  },
  {
   "cell_type": "code",
   "execution_count": 9,
   "id": "0c1b656c",
   "metadata": {},
   "outputs": [
    {
     "name": "stdout",
     "output_type": "stream",
     "text": [
      "Enter a number :45\n",
      "no is valid\n"
     ]
    }
   ],
   "source": [
    "try :\n",
    "    no = int(input(\"Enter a number :\"))\n",
    "    valid_no(no)\n",
    "except validno as e :\n",
    "    print(e)"
   ]
  },
  {
   "cell_type": "markdown",
   "id": "e36f5eb8",
   "metadata": {},
   "source": [
    "# Q 6."
   ]
  },
  {
   "cell_type": "markdown",
   "id": "2f8e04d8",
   "metadata": {},
   "source": [
    "## Create a custom exception class and use this class to handle exceptions "
   ]
  },
  {
   "cell_type": "code",
   "execution_count": 22,
   "id": "4d3b3055",
   "metadata": {},
   "outputs": [
    {
     "name": "stdout",
     "output_type": "stream",
     "text": [
      "enter first no :12\n",
      "enter second no :0\n",
      "can't divide by zero\n"
     ]
    }
   ],
   "source": [
    "def divide(num1,num2):\n",
    "    if num2 == 0 :\n",
    "        raise ZeroDivisionError(\"can't divide by zero\")\n",
    "    return  (num1/num2)    \n",
    "try :\n",
    "    num1 = int(input('enter first no :'))\n",
    "    num2 = int(input('enter second no :'))\n",
    "    divide(num1,num2)\n",
    "except ZeroDivisionError as e :\n",
    "    print(e)\n",
    "else :\n",
    "      print(divide(num1,num2))\n"
   ]
  }
 ],
 "metadata": {
  "kernelspec": {
   "display_name": "Python 3 (ipykernel)",
   "language": "python",
   "name": "python3"
  },
  "language_info": {
   "codemirror_mode": {
    "name": "ipython",
    "version": 3
   },
   "file_extension": ".py",
   "mimetype": "text/x-python",
   "name": "python",
   "nbconvert_exporter": "python",
   "pygments_lexer": "ipython3",
   "version": "3.9.13"
  }
 },
 "nbformat": 4,
 "nbformat_minor": 5
}
